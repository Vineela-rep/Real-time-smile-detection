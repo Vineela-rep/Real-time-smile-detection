{
 "cells": [
  {
   "cell_type": "code",
   "execution_count": 26,
   "metadata": {},
   "outputs": [],
   "source": [
    "import cv2"
   ]
  },
  {
   "cell_type": "code",
   "execution_count": 27,
   "metadata": {},
   "outputs": [],
   "source": [
    "cascade_face = cv2.CascadeClassifier('haarcascade_frontalface_default.xml')\n",
    "cascade_smile = cv2.CascadeClassifier('haarcascade_smile.xml')"
   ]
  },
  {
   "cell_type": "code",
   "execution_count": 28,
   "metadata": {},
   "outputs": [],
   "source": [
    "def detection(grayscale, img):\n",
    "    face = cascade_face.detectMultiScale(grayscale, 1.3, 5)\n",
    "    for (x_face, y_face, w_face, h_face) in face:\n",
    "        cv2.rectangle(img, (x_face, y_face), (x_face+w_face, y_face+h_face), (255, 130, 0), 2)\n",
    "        ri_grayscale = grayscale[y_face:y_face+h_face, x_face:x_face+w_face]\n",
    "        ri_color = img[y_face:y_face+h_face, x_face:x_face+w_face] \n",
    "        smile = cascade_smile.detectMultiScale(ri_grayscale, 1.5, 20)\n",
    "        for (x_smile, y_smile, w_smile, h_smile) in smile: \n",
    "            cv2.rectangle(ri_color,(x_smile, y_smile),(x_smile+w_smile, y_smile+h_smile), (255, 0, 130), 2)\n",
    "    return img \n"
   ]
  },
  {
   "cell_type": "code",
   "execution_count": 29,
   "metadata": {},
   "outputs": [],
   "source": [
    "video_capture = cv2.VideoCapture(0)"
   ]
  },
  {
   "cell_type": "code",
   "execution_count": 30,
   "metadata": {},
   "outputs": [],
   "source": [
    "while True:\n",
    "   # Captures video_capture frame by frame\n",
    "    _, img = video_capture.read() \n",
    "  \n",
    "    # To capture image in monochrome                    \n",
    "    gray = cv2.cvtColor(img, cv2.COLOR_BGR2GRAY)  \n",
    "      \n",
    "    # calls the detect() function    \n",
    "    canvas = detection(gray, img)   \n",
    "  \n",
    "    # Displays the result on camera feed                     \n",
    "    cv2.imshow('Video', canvas) \n",
    "  \n",
    "    # The control breaks once q key is pressed                        \n",
    "    if cv2.waitKey(1) & 0xff == ord('q'):               \n",
    "        break\n",
    "  \n",
    "# Release the capture once all the processing is done.\n",
    "video_capture.release()                                 \n",
    "cv2.destroyAllWindows()"
   ]
  },
  {
   "cell_type": "code",
   "execution_count": null,
   "metadata": {},
   "outputs": [],
   "source": []
  }
 ],
 "metadata": {
  "kernelspec": {
   "display_name": "Python 3",
   "language": "python",
   "name": "python3"
  },
  "language_info": {
   "codemirror_mode": {
    "name": "ipython",
    "version": 3
   },
   "file_extension": ".py",
   "mimetype": "text/x-python",
   "name": "python",
   "nbconvert_exporter": "python",
   "pygments_lexer": "ipython3",
   "version": "3.8.5"
  }
 },
 "nbformat": 4,
 "nbformat_minor": 4
}
